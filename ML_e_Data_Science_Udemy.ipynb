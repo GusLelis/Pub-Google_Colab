{
  "cells": [
    {
      "cell_type": "markdown",
      "metadata": {
        "id": "view-in-github",
        "colab_type": "text"
      },
      "source": [
        "<a href=\"https://colab.research.google.com/github/GusLelis/Pub-Google_Colab/blob/ML1/ML_e_Data_Science_Udemy.ipynb\" target=\"_parent\"><img src=\"https://colab.research.google.com/assets/colab-badge.svg\" alt=\"Open In Colab\"/></a>"
      ]
    },
    {
      "cell_type": "markdown",
      "source": [
        "Variáveis\n",
        "\n",
        "\n",
        "*   Numéricas\n",
        "  *   Contínua\n",
        "  *   Discreta\n",
        "\n",
        "*   Categóricas\n",
        "  *   Nominal\n",
        "  *   Ordinal\n"
      ],
      "metadata": {
        "id": "-nVaYhYXPkzO"
      }
    },
    {
      "cell_type": "code",
      "source": [
        "print(\"Hello World\")\n"
      ],
      "metadata": {
        "colab": {
          "base_uri": "https://localhost:8080/"
        },
        "id": "-MszrH2cQDxd",
        "outputId": "c5e9b51d-9cbc-4a8d-a77e-fcbaa6a7653b"
      },
      "execution_count": 1,
      "outputs": [
        {
          "output_type": "stream",
          "name": "stdout",
          "text": [
            "Hello World\n"
          ]
        }
      ]
    }
  ],
  "metadata": {
    "colab": {
      "provenance": [],
      "include_colab_link": true
    },
    "kernelspec": {
      "display_name": "Python 3",
      "name": "python3"
    }
  },
  "nbformat": 4,
  "nbformat_minor": 0
}